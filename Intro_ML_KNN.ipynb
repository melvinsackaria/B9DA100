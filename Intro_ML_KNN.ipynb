{
  "nbformat": 4,
  "nbformat_minor": 0,
  "metadata": {
    "colab": {
      "name": "Intro_ML_KNN.ipynb",
      "provenance": [],
      "authorship_tag": "ABX9TyOgfHSB3wfdSlNE3rBajgbu",
      "include_colab_link": true
    },
    "kernelspec": {
      "name": "python3",
      "display_name": "Python 3"
    }
  },
  "cells": [
    {
      "cell_type": "markdown",
      "metadata": {
        "id": "view-in-github",
        "colab_type": "text"
      },
      "source": [
        "<a href=\"https://colab.research.google.com/github/melvinsackaria/B9DA100/blob/main/Intro_ML_KNN.ipynb\" target=\"_parent\"><img src=\"https://colab.research.google.com/assets/colab-badge.svg\" alt=\"Open In Colab\"/></a>"
      ]
    },
    {
      "cell_type": "code",
      "metadata": {
        "id": "TKjwDHYBuk6Q"
      },
      "source": [
        "import sklearn\r\n",
        "from sklearn.neighbors import KNeighborsClassifier\r\n",
        "train_data =[[3,4],[5,6],[7,8],[3,2],[8,7],[5,4],[7,4]]\r\n",
        "label_data=[[1],[0],[1],[0],[1],[0],[1]]\r\n",
        "test_data=[[7,3],[8,8]]\r\n",
        "\r\n",
        "actual_data=[[1],[0]]"
      ],
      "execution_count": 12,
      "outputs": []
    },
    {
      "cell_type": "code",
      "metadata": {
        "colab": {
          "base_uri": "https://localhost:8080/"
        },
        "id": "4N5NHwGdv--m",
        "outputId": "eb47499c-d4b1-4a6e-d060-bf6c880cea6c"
      },
      "source": [
        "model=KNeighborsClassifier(n_neighbors=3)\r\n",
        "model.fit(train_data,label_data)\r\n",
        "pred=model.predict(test_data)\r\n",
        "model.predict(test_data)"
      ],
      "execution_count": 13,
      "outputs": [
        {
          "output_type": "stream",
          "text": [
            "/usr/local/lib/python3.6/dist-packages/ipykernel_launcher.py:2: DataConversionWarning: A column-vector y was passed when a 1d array was expected. Please change the shape of y to (n_samples, ), for example using ravel().\n",
            "  \n"
          ],
          "name": "stderr"
        },
        {
          "output_type": "execute_result",
          "data": {
            "text/plain": [
              "array([0, 1])"
            ]
          },
          "metadata": {
            "tags": []
          },
          "execution_count": 13
        }
      ]
    },
    {
      "cell_type": "code",
      "metadata": {
        "colab": {
          "base_uri": "https://localhost:8080/"
        },
        "id": "TLWynW4Bz5ZI",
        "outputId": "f7108ae9-f7bf-471f-97e7-4e4c1fc24e4f"
      },
      "source": [
        "from sklearn.metrics import accuracy_score\r\n",
        "accuracy_score(actual_data, pred)"
      ],
      "execution_count": 16,
      "outputs": [
        {
          "output_type": "execute_result",
          "data": {
            "text/plain": [
              "0.0"
            ]
          },
          "metadata": {
            "tags": []
          },
          "execution_count": 16
        }
      ]
    },
    {
      "cell_type": "code",
      "metadata": {
        "colab": {
          "base_uri": "https://localhost:8080/"
        },
        "id": "QB4o0PVj2WEs",
        "outputId": "7db5331b-5771-4655-92dc-231445f15d6c"
      },
      "source": [
        "from sklearn import metrics\r\n",
        "print(metrics.confusion_matrix(actual_data, pred))\r\n",
        "print(metrics.classification_report(actual_data, pred))"
      ],
      "execution_count": 20,
      "outputs": [
        {
          "output_type": "stream",
          "text": [
            "[[0 1]\n",
            " [1 0]]\n",
            "              precision    recall  f1-score   support\n",
            "\n",
            "           0       0.00      0.00      0.00       1.0\n",
            "           1       0.00      0.00      0.00       1.0\n",
            "\n",
            "    accuracy                           0.00       2.0\n",
            "   macro avg       0.00      0.00      0.00       2.0\n",
            "weighted avg       0.00      0.00      0.00       2.0\n",
            "\n"
          ],
          "name": "stdout"
        }
      ]
    }
  ]
}